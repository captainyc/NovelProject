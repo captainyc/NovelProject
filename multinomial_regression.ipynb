{
 "cells": [
  {
   "cell_type": "code",
   "execution_count": 1,
   "metadata": {
    "collapsed": true
   },
   "outputs": [],
   "source": [
    "meta_ch = read.csv(\"~/github/NovelProject/features_ch.csv\")\n",
    "meta_jp = read.csv(\"~/github/NovelProject/features_jp.csv\")"
   ]
  },
  {
   "cell_type": "markdown",
   "metadata": {},
   "source": [
    "First we fit a multinomial regression with the following features:\n",
    "- thought\n",
    "- pronouns\n",
    "- kl_score\n",
    "- ttr_mean\n",
    "- ent_mean\n",
    "- con_ent2_mean\n",
    "- period\n",
    "- punct\n",
    "- stopword"
   ]
  },
  {
   "cell_type": "code",
   "execution_count": 2,
   "metadata": {
    "collapsed": false
   },
   "outputs": [],
   "source": [
    "library(nnet)\n",
    "fit_ch = multinom(genre~thought+pronouns+kl_score+ttr_mean+ent_mean+con_ent2_mean+period+punct+stopword,data=meta_ch,maxit=1000,trace=FALSE)"
   ]
  },
  {
   "cell_type": "markdown",
   "metadata": {},
   "source": [
    "Get summary of the fitted coefficients."
   ]
  },
  {
   "cell_type": "code",
   "execution_count": 3,
   "metadata": {
    "collapsed": false
   },
   "outputs": [
    {
     "name": "stdout",
     "output_type": "stream",
     "text": [
      "$Romantic\n",
      "              Estimate Std. Error Z-score Pr(>|Z|)\n",
      "(Intercept)      8.234      32.60   0.253 8.01e-01\n",
      "thought        233.073      25.80   9.034 0.00e+00\n",
      "pronouns       344.887      68.47   5.037 4.73e-07\n",
      "kl_score         0.913       1.34   0.683 4.95e-01\n",
      "ttr_mean        20.532      15.78   1.301 1.93e-01\n",
      "ent_mean        -9.126       4.99  -1.827 6.77e-02\n",
      "con_ent2_mean   40.275       6.80   5.926 3.11e-09\n",
      "period          35.198      37.83   0.930 3.52e-01\n",
      "punct         -100.263      23.21  -4.320 1.56e-05\n",
      "stopword       -52.135      16.11  -3.236 1.21e-03\n",
      "\n",
      "$SR\n",
      "              Estimate Std. Error Z-score Pr(>|Z|)\n",
      "(Intercept)     -13.82      32.02  -0.431 6.66e-01\n",
      "thought          85.29      26.13   3.264 1.10e-03\n",
      "pronouns        263.74      66.95   3.940 8.16e-05\n",
      "kl_score         -3.95       2.33  -1.697 8.98e-02\n",
      "ttr_mean         25.80      15.36   1.680 9.30e-02\n",
      "ent_mean         -7.84       4.95  -1.586 1.13e-01\n",
      "con_ent2_mean    39.21       6.70   5.853 4.82e-09\n",
      "period           99.12      36.34   2.727 6.39e-03\n",
      "punct           -76.22      22.56  -3.378 7.29e-04\n",
      "stopword        -26.13      15.37  -1.700 8.91e-02\n",
      "\n"
     ]
    }
   ],
   "source": [
    "z = summary(fit_ch)$coefficients/summary(fit_ch)$standard.errors\n",
    "pval = 2*(1-pnorm(abs(z)))\n",
    "fit_summary = list()\n",
    "fit_summary$Romantic = cbind(coef(fit_ch)[1,],summary(fit_ch)$standard.errors[1,],z[1,],pval[1,])\n",
    "colnames(fit_summary$Romantic) = c(\"Estimate\",\"Std. Error\",\"Z-score\",\"Pr(>|Z|)\")\n",
    "fit_summary$SR = cbind(coef(fit_ch)[2,],summary(fit_ch)$standard.errors[2,],z[2,],pval[2,])\n",
    "colnames(fit_summary$SR) = c(\"Estimate\",\"Std. Error\",\"Z-score\",\"Pr(>|Z|)\")\n",
    "print(fit_summary,digits=3)"
   ]
  },
  {
   "cell_type": "markdown",
   "metadata": {},
   "source": [
    "The underlying model here is\n",
    "$$\\log\\left(\\frac{P(\\text{Romantic})}{P(\\text{Popular})}\\right)=\\beta_0+\\beta_1\\cdot\\text{thought}+\\cdots+\\beta_9\\cdot\\text{stopword}.$$\n",
    "To interpret the result, for example, we can say that the odds ratio between being a romantic and a popular novel for a 0.1% increase of the thought word proportion while holding other variable fixed is \n",
    "$$\\exp(233.073\\times 0.001)=1.26.$$\n",
    "\n",
    "For the Japanese corpus:"
   ]
  },
  {
   "cell_type": "code",
   "execution_count": 4,
   "metadata": {
    "collapsed": false
   },
   "outputs": [],
   "source": [
    "library(nnet)\n",
    "fit_jp = multinom(genre~thought+narrator+kl_score+ttr_mean+ent_mean+con_ent2_mean+period+punct+stopword,data=meta_jp,maxit=1000,trace=FALSE)"
   ]
  },
  {
   "cell_type": "code",
   "execution_count": 5,
   "metadata": {
    "collapsed": false
   },
   "outputs": [
    {
     "name": "stdout",
     "output_type": "stream",
     "text": [
      "$Prolet\n",
      "              Estimate Std. Error Z-score Pr(>|Z|)\n",
      "(Intercept)    -70.829     23.848  -2.970 2.98e-03\n",
      "thought       -125.012    176.752  -0.707 4.79e-01\n",
      "narratorthird    0.695      0.461   1.506 1.32e-01\n",
      "kl_score         3.257      2.438   1.336 1.82e-01\n",
      "ttr_mean        15.937     14.616   1.090 2.76e-01\n",
      "ent_mean         8.248      4.257   1.938 5.27e-02\n",
      "con_ent2_mean    5.911      5.842   1.012 3.12e-01\n",
      "period         152.005     28.060   5.417 6.05e-08\n",
      "punct          -24.622     12.370  -1.990 4.65e-02\n",
      "stopword        18.816     13.114   1.435 1.51e-01\n",
      "\n",
      "$Shishosetsu\n",
      "              Estimate Std. Error Z-score Pr(>|Z|)\n",
      "(Intercept)    -42.083     24.568  -1.713 0.086727\n",
      "thought        375.385    164.131   2.287 0.022190\n",
      "narratorthird   -0.516      0.458  -1.128 0.259472\n",
      "kl_score        -1.702      2.588  -0.658 0.510799\n",
      "ttr_mean        25.193     16.020   1.573 0.115807\n",
      "ent_mean         0.450      4.364   0.103 0.917940\n",
      "con_ent2_mean    2.097      6.249   0.336 0.737132\n",
      "period          97.229     28.459   3.417 0.000634\n",
      "punct           -9.446     12.512  -0.755 0.450286\n",
      "stopword        42.181     13.271   3.178 0.001481\n",
      "\n"
     ]
    }
   ],
   "source": [
    "z = summary(fit_jp)$coefficients/summary(fit_jp)$standard.errors\n",
    "pval = 2*(1-pnorm(abs(z)))\n",
    "fit_summary = list()\n",
    "fit_summary$Prolet = cbind(coef(fit_jp)[1,],summary(fit_jp)$standard.errors[1,],z[1,],pval[1,])\n",
    "colnames(fit_summary$Prolet) = c(\"Estimate\",\"Std. Error\",\"Z-score\",\"Pr(>|Z|)\")\n",
    "fit_summary$Shishosetsu = cbind(coef(fit_jp)[2,],summary(fit_jp)$standard.errors[2,],z[2,],pval[2,])\n",
    "colnames(fit_summary$Shishosetsu) = c(\"Estimate\",\"Std. Error\",\"Z-score\",\"Pr(>|Z|)\")\n",
    "print(fit_summary,digits=3)"
   ]
  },
  {
   "cell_type": "markdown",
   "metadata": {},
   "source": [
    "Now let's look at the predictive performance of the multinomial fit."
   ]
  },
  {
   "cell_type": "code",
   "execution_count": 6,
   "metadata": {
    "collapsed": false
   },
   "outputs": [],
   "source": [
    "confusion_ch = matrix(0,3,3)\n",
    "B = 100\n",
    "for (i in 1:B) {\n",
    "    romantic = sample(which(meta_ch$genre==\"Romantic\"))\n",
    "    sr = sample(which(meta_ch$genre==\"SR\"))\n",
    "    pop = sample(which(meta_ch$genre==\"Pop\"))\n",
    "    \n",
    "    ptrain = 4/5\n",
    "    train = meta_ch[c(romantic[1:floor(length(romantic)*ptrain)],sr[1:floor(length(sr)*ptrain)],pop[1:floor(length(pop)*ptrain)]),]\n",
    "    test = meta_ch[c(romantic[(floor(length(romantic)*ptrain)+1):length(romantic)],sr[(floor(length(sr)*ptrain)+1):length(sr)],pop[(floor(length(pop)*ptrain)+1):length(pop)]),]\n",
    "\n",
    "    fit = multinom(genre~thought+pronouns+kl_score+ttr_mean+ent_mean+con_ent2_mean+period+punct+stopword,data=meta_ch,maxit=1000,trace=FALSE)\n",
    "    true = test$genre\n",
    "    pred = predict(fit,newdata=test)\n",
    "    confusion_ch = confusion_ch + table(as.character(true),pred)\n",
    "}"
   ]
  },
  {
   "cell_type": "code",
   "execution_count": 7,
   "metadata": {
    "collapsed": false
   },
   "outputs": [],
   "source": [
    "confusion_jp = matrix(0,3,3)\n",
    "B = 100\n",
    "for (i in 1:B) {\n",
    "    control = sample(which(meta_jp$genre==\"CONTROL\"))\n",
    "    prolet = sample(which(meta_jp$genre==\"PROLET\"))\n",
    "    shishosetsu = sample(which(meta_jp$genre==\"SHISHOSETSU\"))\n",
    "    \n",
    "    ptrain = 4/5\n",
    "    train = meta_jp[c(control[1:floor(length(control)*ptrain)],prolet[1:floor(length(prolet)*ptrain)],shishosetsu[1:floor(length(shishosetsu)*ptrain)]),]\n",
    "    test = meta_jp[c(control[(floor(length(control)*ptrain)+1):length(control)],prolet[(floor(length(prolet)*ptrain)+1):length(prolet)],shishosetsu[(floor(length(shishosetsu)*ptrain)+1):length(shishosetsu)]),]\n",
    "\n",
    "    fit = multinom(genre~thought+narrator+kl_score+ttr_mean+ent_mean+con_ent2_mean+period+punct+stopword,data=meta_jp,maxit=1000,trace=FALSE)\n",
    "    true = test$genre\n",
    "    pred = predict(fit,newdata=test)\n",
    "    confusion_jp = confusion_jp + table(as.character(true),pred)\n",
    "}"
   ]
  },
  {
   "cell_type": "code",
   "execution_count": 8,
   "metadata": {
    "collapsed": false
   },
   "outputs": [
    {
     "data": {
      "text/plain": [
       "          pred\n",
       "             Pop Romantic    SR\n",
       "  Pop       9.36     0.41  2.23\n",
       "  Romantic  1.32    18.70  4.98\n",
       "  SR        1.30     5.92 15.78"
      ]
     },
     "execution_count": 8,
     "metadata": {},
     "output_type": "execute_result"
    }
   ],
   "source": [
    "confusion_ch/B"
   ]
  },
  {
   "cell_type": "code",
   "execution_count": 9,
   "metadata": {
    "collapsed": false
   },
   "outputs": [
    {
     "data": {
      "text/plain": [
       "             pred\n",
       "              CONTROL PROLET SHISHOSETSU\n",
       "  CONTROL        8.66   2.93        2.41\n",
       "  PROLET         3.22   8.44        2.34\n",
       "  SHISHOSETSU    2.09   2.70        9.21"
      ]
     },
     "execution_count": 9,
     "metadata": {},
     "output_type": "execute_result"
    }
   ],
   "source": [
    "confusion_jp/B"
   ]
  }
 ],
 "metadata": {
  "kernelspec": {
   "display_name": "R",
   "language": "R",
   "name": "ir"
  },
  "language_info": {
   "codemirror_mode": "r",
   "file_extension": ".r",
   "mimetype": "text/x-r-source",
   "name": "R",
   "pygments_lexer": "r",
   "version": "3.2.3"
  }
 },
 "nbformat": 4,
 "nbformat_minor": 0
}
